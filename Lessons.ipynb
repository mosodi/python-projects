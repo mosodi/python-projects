{
 "cells": [
  {
   "cell_type": "code",
   "execution_count": 80,
   "metadata": {},
   "outputs": [
    {
     "name": "stdout",
     "output_type": "stream",
     "text": [
      "cat 3\n",
      "window 6\n",
      "defenestrate 12\n",
      "cat has 3 letters\n",
      "cat has 3 letters\n",
      "cat has 3 letters\n",
      "window has 6 letters\n",
      "window has 6 letters\n",
      "window has 6 letters\n",
      "defenestrate has 12 letters\n",
      "defenestrate has 12 letters\n",
      "defenestrate has 12 letters\n",
      "{'mart': 'active', 'peter': 'active', 'jane': 'active'}\n",
      "{'mart': 'active', 'peter': 'active', 'jane': 'active'}\n",
      "jane is active\n",
      "The total numbers if active users are 3\n",
      "words are cat and numbers are 3\n",
      "words are cat and numbers are 3\n",
      "words are cat and numbers are 3\n",
      "words are window and numbers are 6\n",
      "words are window and numbers are 6\n",
      "words are window and numbers are 6\n",
      "words are defenestrate and numbers are 12\n",
      "words are defenestrate and numbers are 12\n",
      "words are defenestrate and numbers are 12\n"
     ]
    }
   ],
   "source": [
    "\n",
    "# Measure some strings:\n",
    "words = ['cat', 'window', 'defenestrate']\n",
    "for w in words:\n",
    "    print(w, len(w))\n",
    "\n",
    "# when you say \"for w in words\", it means \"for each w in words\"\n",
    "tuple = [('cat', 3), ('window', 6), ('defenestrate', 12)]\n",
    "for name, number in tuple:\n",
    "    print(f'{name} has {number} letters')\n",
    "    print(name, \"has\", number,\"letters\")\n",
    "    print(\"{} has {} letters\".format(name, number))\n",
    "\n",
    "#The f stands for f-string, which is short for formatted string literal. \n",
    "# It allows you to insert variables directly inside a string using {}\n",
    "\n",
    "\n",
    "#A method to delete inactive users from a dictionary\n",
    "\n",
    "users = {'mart': 'active', 'john': 'inactive', 'peter': 'active', 'mary': 'inactive', 'jane': 'active'}\n",
    "for u,status in users.copy().items():\n",
    "    if status == 'inactive':\n",
    "        del users[u]\n",
    "print(users)\n",
    "\n",
    "# Create a new collection of users with only the active ones\n",
    "active_users = {}\n",
    "for u,status in users.items():\n",
    "    if status == 'active':\n",
    "        active_users[u] = status\n",
    "print(active_users)\n",
    "print(\"{} is {}\".format(u,status))\n",
    "print(\"The total numbers if active users are {}\".format(len(active_users))) #this prints the number of active users\n",
    "\n",
    "# using the zip function to combine two lists\n",
    "\n",
    "words = ['cat', 'window', 'defenestrate']\n",
    "numbers = [3, 6, 12]\n",
    "for w, n in zip(words, numbers):\n",
    "    print(\"words are {} and numbers are {}\".format(w, n))\n",
    "    print(f\"words are {w} and numbers are {n}\") # This is cleaner\n",
    "    print(\"words are\", w, \"and numbers are\", n)\n",
    "\n",
    "\n",
    "\n",
    "\n"
   ]
  },
  {
   "cell_type": "code",
   "execution_count": 83,
   "metadata": {},
   "outputs": [
    {
     "name": "stdout",
     "output_type": "stream",
     "text": [
      "9\n",
      "8\n",
      "7\n",
      "6\n",
      "5\n",
      "4\n",
      "3\n",
      "2\n",
      "1\n",
      "0\n",
      "apple\n",
      "banana\n",
      "orranges\n",
      "pinnaples\n",
      "watermelons\n",
      "So who are you?\n"
     ]
    }
   ],
   "source": [
    "for i in reversed(range(10)):\n",
    "    print(i)\n",
    "\n",
    "\n",
    "basket_lists = ['apple', 'banana', 'pinnaples', 'orranges', 'watermelons']\n",
    "for l in sorted(basket_lists):\n",
    "    print(l)\n",
    "\n",
    "myName = input(\"Enter your name: \")\n",
    "if myName == \"Alice\":\n",
    "  print(\"Hi, Alice. Welcome to the wonderland\")\n",
    "else:\n",
    "  print(\"So who are you?\")"
   ]
  }
 ],
 "metadata": {
  "kernelspec": {
   "display_name": "Python 3",
   "language": "python",
   "name": "python3"
  },
  "language_info": {
   "codemirror_mode": {
    "name": "ipython",
    "version": 3
   },
   "file_extension": ".py",
   "mimetype": "text/x-python",
   "name": "python",
   "nbconvert_exporter": "python",
   "pygments_lexer": "ipython3",
   "version": "3.13.3"
  }
 },
 "nbformat": 4,
 "nbformat_minor": 2
}
