{
 "cells": [
  {
   "cell_type": "code",
   "execution_count": 25,
   "metadata": {},
   "outputs": [
    {
     "name": "stdout",
     "output_type": "stream",
     "text": [
      "['apple', 'c', 'e']\n",
      "[19, 17, 15, 13, 11, 9, 7, 5, 3, 1]\n",
      "1 3 234\n",
      "4 5 84 34\n",
      "1\n",
      "2\n",
      "3\n",
      "4\n",
      "5\n",
      "84\n",
      "34\n",
      "234\n",
      "(0, 1)\n",
      "(1, 2)\n",
      "(2, 3)\n",
      "(3, 4)\n",
      "(4, 5)\n",
      "(5, 84)\n",
      "(6, 34)\n",
      "(7, 234)\n",
      "[0, 1, 2, 3, 4, 5, 6, 7, 8, 9, 10, 11, 12, 13, 14, 15, 16, 17, 18, 19, 'new']\n",
      "['new', 0, 1, 2, 3, 4, 5, 6, 7, 8, 9, 10, 11, 12, 13, 14, 15, 16, 17, 18, 19, 'new']\n",
      "[0, 1, 2, 3, 4, 5, 6, 7, 8, 9, 10, 11, 12, 13, 14, 15, 16, 17, 18, 19, 'new']\n",
      "[1, 2, 3, 4, 5, 6, 7, 8, 9, 10, 11, 12, 13, 14, 15, 16, 17, 18, 19, 'new']\n"
     ]
    }
   ],
   "source": [
    "lists = [\"a\", \"b\", \"c\", \"d\", \"e\"]\n",
    "lists[0] = \"apple\"\n",
    "print(lists[::2])\n",
    "#Start, Stop, Step\n",
    "\n",
    "\n",
    "new_lists = list(range(20))\n",
    "print(new_lists[::-2]) #reversed\n",
    "\n",
    "#unpacking lists\n",
    "another_lists = [1, 2, 3, 4, 5,84,34,234]\n",
    "a, b, c, *other, last = another_lists\n",
    "print(a,c,last)\n",
    "print(*other)\n",
    "\n",
    "#Loop over list\n",
    "for letter in (another_lists):\n",
    "    print (letter)\n",
    "\n",
    "# creating a tuple. A tuple is a read only list\n",
    "for letter in enumerate(another_lists):\n",
    "    print (letter)\n",
    "\n",
    "#What is iteration? \n",
    "#Iteration is a process of going through a sequence of elements.\n",
    "\n",
    "#Adding, Inserting and Removing elements to a list\n",
    "new_lists.append(\"new\")\n",
    "print(new_lists)\n",
    "\n",
    "new_lists.insert(0, \"new\")\n",
    "print(new_lists)\n",
    "\n",
    "new_lists.remove(\"new\")\n",
    "print(new_lists)\n",
    "\n",
    "new_lists.pop(0)    #remove and return the last element\n",
    "print(new_lists)\n",
    "\n",
    "del new_lists[0]    #remove and return the last element\n",
    "print(new_lists)\n",
    "\n",
    "#Use the append method to add an element to the end of a list\n"
   ]
  }
 ],
 "metadata": {
  "kernelspec": {
   "display_name": "Python 3",
   "language": "python",
   "name": "python3"
  },
  "language_info": {
   "codemirror_mode": {
    "name": "ipython",
    "version": 3
   },
   "file_extension": ".py",
   "mimetype": "text/x-python",
   "name": "python",
   "nbconvert_exporter": "python",
   "pygments_lexer": "ipython3",
   "version": "3.13.3"
  }
 },
 "nbformat": 4,
 "nbformat_minor": 2
}
